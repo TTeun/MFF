{
 "metadata": {
  "kernelspec": {
   "display_name": "Python 3",
   "language": "python",
   "name": "python3"
  },
  "language_info": {
   "codemirror_mode": {
    "name": "ipython",
    "version": 3
   },
   "file_extension": ".py",
   "mimetype": "text/x-python",
   "name": "python",
   "nbconvert_exporter": "python",
   "pygments_lexer": "ipython3",
   "version": "3.5.2"
  },
  "name": "",
  "signature": "sha256:d519c3c419c6cc527e72ecf2f338d40e0d5cd6363088c14ffd7c516e2c552bc4"
 },
 "nbformat": 3,
 "nbformat_minor": 0,
 "worksheets": [
  {
   "cells": [
    {
     "cell_type": "markdown",
     "metadata": {},
     "source": [
      "# FEniCS Expressions\n",
      "Define complex functions by a string of C++ syntax\n",
      "\n",
      "- Coordinates: x, y, z are x[0], x[1], x[2]\n",
      "- C++ math functions: \n",
      "    - sin, cos, exp, sqrt, ...\n",
      "    - exponents: `pow(x[0], 10)`  is the C++ version of x^10\n",
      "- DOLFIN_PI is pi\n",
      "- keyword \"degree\" defines interpolation degree when evaluated in elements\n",
      "\n",
      "Expressions can be used in variational forms!"
     ]
    },
    {
     "cell_type": "code",
     "collapsed": false,
     "input": [
      "from fenics import *\n",
      "ex1 = Expression('1 + sqrt(x[0]*x[1]) + exp(sin(x[1])) + pow(x[0], 10)', degree=3)"
     ],
     "language": "python",
     "metadata": {},
     "outputs": [],
     "prompt_number": 1
    },
    {
     "cell_type": "markdown",
     "metadata": {},
     "source": [
      "Give Python variables to an `Expression`:"
     ]
    },
    {
     "cell_type": "code",
     "collapsed": false,
     "input": [
      "a = 1.3\n",
      "b = Constant(10)\n",
      "ex2 = Expression('A*x[0] + B*x[1]', degree=1, A=a, B=b)"
     ],
     "language": "python",
     "metadata": {},
     "outputs": [],
     "prompt_number": 2
    },
    {
     "cell_type": "markdown",
     "metadata": {},
     "source": [
      "Interpolate Expression onto function space (create a FEniCS Function)"
     ]
    },
    {
     "cell_type": "code",
     "collapsed": false,
     "input": [
      "mesh = UnitSquareMesh(8, 8)\n",
      "V = FunctionSpace(mesh, 'P', 1)\n",
      "u = interpolate(ex1, V)\n",
      "plot(u)"
     ],
     "language": "python",
     "metadata": {},
     "outputs": [
      {
       "output_type": "stream",
       "stream": "stderr",
       "text": [
        "/usr/lib/python3/dist-packages/matplotlib/font_manager.py:273: UserWarning: Matplotlib is building the font cache using fc-list. This may take a moment.\n",
        "  warnings.warn('Matplotlib is building the font cache using fc-list. This may take a moment.')\n",
        "/usr/lib/python3/dist-packages/matplotlib/font_manager.py:273: UserWarning: Matplotlib is building the font cache using fc-list. This may take a moment.\n",
        "  warnings.warn('Matplotlib is building the font cache using fc-list. This may take a moment.')\n"
       ]
      },
      {
       "metadata": {},
       "output_type": "pyout",
       "prompt_number": 3,
       "text": [
        "<matplotlib.tri.tricontour.TriContourSet at 0x7fdd6857f3c8>"
       ]
      }
     ],
     "prompt_number": 3
    },
    {
     "cell_type": "code",
     "collapsed": false,
     "input": [],
     "language": "python",
     "metadata": {},
     "outputs": [],
     "prompt_number": 3
    },
    {
     "cell_type": "code",
     "collapsed": false,
     "input": [],
     "language": "python",
     "metadata": {},
     "outputs": []
    }
   ],
   "metadata": {}
  }
 ]
}