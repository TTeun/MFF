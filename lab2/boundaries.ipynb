{
 "cells": [
  {
   "cell_type": "markdown",
   "metadata": {},
   "source": [
    "# Mark multiple boundaries using subdomains"
   ]
  },
  {
   "cell_type": "markdown",
   "metadata": {},
   "source": [
    "For Dirichlet-BCs, simple functions can define the boundaries:"
   ]
  },
  {
   "cell_type": "code",
   "execution_count": 2,
   "metadata": {},
   "outputs": [],
   "source": [
    "from fenics import *\n",
    "mesh = UnitSquareMesh(8, 8)\n",
    "V = FunctionSpace(mesh, 'P', 1)\n",
    "\n",
    "# whole boundary\n",
    "bc = DirichletBC(V, Constant(1), 'on_boundary')\n",
    "# only at x = 1:\n",
    "bc = DirichletBC(V, Constant(1), 'on_boundary && near(x[0], 1)')\n",
    "\n",
    "# a bit more complex: x = 0 or y = 1\n",
    "def boundary(x, on_boundary):\n",
    "    return on_boundary and (near(x[0], 0) or near(x[1], 1))\n",
    "\n",
    "bc = DirichletBC(V, Constant(1), boundary)"
   ]
  },
  {
   "cell_type": "markdown",
   "metadata": {},
   "source": [
    "Neumann or Robin BCs, the boundaries have to be marked, by \"subclassing\" the FEniCS SubDomain class:"
   ]
  },
  {
   "cell_type": "code",
   "execution_count": 4,
   "metadata": {},
   "outputs": [],
   "source": [
    "# class that defines boundary\n",
    "class boundary_top(SubDomain):\n",
    "    def inside(self, x, on_boundary):\n",
    "        return on_boundary and near(x[1], 1)\n",
    "\n",
    "# create a MeshFunction that contains boundary information\n",
    "boundaries = MeshFunction('size_t', mesh, mesh.topology().dim() - 1)\n",
    "# create object of boundary class and mark the 'boundaries' function with the tag \"1\"\n",
    "top = boundary_top()\n",
    "top.mark(boundaries, 1)\n",
    "\n",
    "# re-define the Measure ds with the boundary information\n",
    "ds = Measure('ds', domain=mesh, subdomain_data=boundaries)\n",
    "# now we can use this in a variational problem:\n",
    "v = TestFunction(V)\n",
    "L = Constant(3)*v*ds(1)\n",
    "# ds(1) integrates only over the boundary marked with \"1\"\n"
   ]
  }
 ],
 "metadata": {
  "kernelspec": {
   "display_name": "Python 3",
   "language": "python",
   "name": "python3"
  },
  "language_info": {
   "codemirror_mode": {
    "name": "ipython",
    "version": 3
   },
   "file_extension": ".py",
   "mimetype": "text/x-python",
   "name": "python",
   "nbconvert_exporter": "python",
   "pygments_lexer": "ipython3",
   "version": "3.5.2"
  }
 },
 "nbformat": 4,
 "nbformat_minor": 2
}
