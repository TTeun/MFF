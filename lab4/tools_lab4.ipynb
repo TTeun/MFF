{
 "cells": [
  {
   "cell_type": "markdown",
   "metadata": {},
   "source": [
    "# FEniCS tools for lab 4"
   ]
  },
  {
   "cell_type": "markdown",
   "metadata": {},
   "source": [
    "## Mixed Function Spaces"
   ]
  },
  {
   "cell_type": "markdown",
   "metadata": {},
   "source": [
    "### 1. Define *Elements* of the mixed space:\n",
    "   - a ```VectorElement``` for the velocity vector\n",
    "   - a scalar ```FiniteElement``` for the pressure\n",
    "   - arguments:\n",
    "       1. element type, ```'P'``` for standard polynomial basis,\n",
    "       2. mesh cell shape: ```mesh.ufl_cell()``` returns ```triangle```, ```tetrahedron```, etc\n",
    "       3. degree of shape functions\n",
    "    \n",
    "### 2. Create a mixed function space from elements\n",
    "\n",
    "Here we use Taylor-Hood P2/P1 elements for the Stokes problem."
   ]
  },
  {
   "cell_type": "code",
   "execution_count": null,
   "metadata": {},
   "outputs": [],
   "source": [
    "mesh = UnitSquareMesh(16, 16)\n",
    "\n",
    "VE = VectorElement('P', mesh.ufl_cell(), 2)\n",
    "PE = FiniteElement('P', mesh.ufl_cell(), 1)\n",
    "\n",
    "W = FunctionSpace(mesh, VE * PE)\n",
    "\n",
    "# equivalent to:\n",
    "W = FunctionSpace(mesh, MixedElement([VE, PE]))\n",
    "\n",
    "# Note: you can use VectorFunctionSpace(mesh, 'P', 1) for multidimensional but not mixed problems"
   ]
  },
  {
   "cell_type": "markdown",
   "metadata": {},
   "source": [
    "Now ```W``` is a mixed function space, consisting of two subspaces: first, the vector function space of the velocity, and second, the scalar pressure space. The subspaces can be accessed by ```W.sub(0)``` and ```W.sub(1)```. ```W.sub(0).sub(i)``` selects the subspace corresponding to the $i$th velocity component:"
   ]
  },
  {
   "cell_type": "code",
   "execution_count": null,
   "metadata": {},
   "outputs": [],
   "source": [
    "# dimension of mixed function space\n",
    "print(W.dim())\n",
    "# dimensions of sub spaces\n",
    "print(W.sub(0).dim())\n",
    "print(W.sub(1).dim())"
   ]
  },
  {
   "cell_type": "markdown",
   "metadata": {},
   "source": [
    "## Mixed Variational Formulations\n",
    "The variational formulation of a mixed problem is defined for trial and test function of the subspaces.\n",
    "Below two methods, in both cases the trial functions (the solutions searched for) are ```u``` for the velocities and ```p``` for the pressure, and ```(v, q)``` their respective test functions:"
   ]
  },
  {
   "cell_type": "code",
   "execution_count": null,
   "metadata": {},
   "outputs": [],
   "source": [
    "u, p = TrialFunctions(W)\n",
    "v, q = TestFunctions(W)\n",
    "# or using mixed functions, w, z, and splitting into their components:\n",
    "w = TrialFunction(W)\n",
    "z = TestFunction(W)\n",
    "u, p = split(w)\n",
    "v, q = split(z)"
   ]
  },
  {
   "cell_type": "markdown",
   "metadata": {},
   "source": [
    "Now define a variational problem in terms of these trial and test functions, for example:"
   ]
  },
  {
   "cell_type": "code",
   "execution_count": null,
   "metadata": {},
   "outputs": [],
   "source": [
    "a = inner(grad(u), grad(v))*dx + div(u)*q*dx + ..."
   ]
  },
  {
   "cell_type": "markdown",
   "metadata": {},
   "source": [
    "Note than $u$ and $v$ are vector functions and their gradients are tensors of second order. It is important to use ```inner``` here to compute the inner product instead of the function ```dot``` (see https://fenics.readthedocs.io/projects/ufl/en/latest/manual/form_language.html#tensor-algebra-operators for details)."
   ]
  },
  {
   "cell_type": "markdown",
   "metadata": {},
   "source": [
    "## Functions of mixed spaces\n",
    "A function ```w = Function(W)``` is a mixed function, containing both the velocity vector and the pressure.\n",
    "This is the case when solving a mixed problem via ```solve(a == L, w, bcs)```.\n",
    "The components can be extracted with:"
   ]
  },
  {
   "cell_type": "code",
   "execution_count": null,
   "metadata": {},
   "outputs": [],
   "source": [
    "w = Function(W)\n",
    "u, p = w.split()    # in contrast to split(w), which only works for use in UFL forms\n",
    "# for further computations with the components it may be necessary to use\n",
    "u, p = w.split(deepcopy=True)"
   ]
  },
  {
   "cell_type": "markdown",
   "metadata": {},
   "source": [
    "## Dirichlet boundary conditions on subspaces\n",
    "To apply a Dirichlet boundary condition on a subspace, for instance the velocity, do, for instance:"
   ]
  },
  {
   "cell_type": "code",
   "execution_count": null,
   "metadata": {},
   "outputs": [],
   "source": [
    "bc = DirichletBC(W.sub(0), Constant((1, 2)), 'on_boundary')"
   ]
  },
  {
   "cell_type": "markdown",
   "metadata": {},
   "source": [
    "## Other useful functions\n",
    "for using in variational forms\n",
    "### Element normal vectors"
   ]
  },
  {
   "cell_type": "code",
   "execution_count": null,
   "metadata": {},
   "outputs": [],
   "source": [
    "n = FacetNormal(mesh)"
   ]
  },
  {
   "cell_type": "markdown",
   "metadata": {},
   "source": [
    "### Element size"
   ]
  },
  {
   "cell_type": "code",
   "execution_count": null,
   "metadata": {},
   "outputs": [],
   "source": [
    "h = CellDiameter(mesh)"
   ]
  },
  {
   "cell_type": "markdown",
   "metadata": {},
   "source": [
    "### Vector Expressions\n",
    "(intuitively, like ```Constant```s)"
   ]
  },
  {
   "cell_type": "code",
   "execution_count": null,
   "metadata": {},
   "outputs": [],
   "source": [
    "vec_exp = Expression(('pow(x[0], 2)', 'A*fabs(x[1])'), A=3, degree=2)\n",
    "# Here, A is a user given constant. Can have any name and be any number or Constant...\n",
    "# Note: fabs() is the C function for the absolute value of a number"
   ]
  }
 ],
 "metadata": {
  "kernelspec": {
   "display_name": "Python 3",
   "language": "python",
   "name": "python3"
  },
  "language_info": {
   "codemirror_mode": {
    "name": "ipython",
    "version": 3
   },
   "file_extension": ".py",
   "mimetype": "text/x-python",
   "name": "python",
   "nbconvert_exporter": "python",
   "pygments_lexer": "ipython3",
   "version": "3.6.5"
  }
 },
 "nbformat": 4,
 "nbformat_minor": 2
}
