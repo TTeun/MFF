{
 "metadata": {
  "kernelspec": {
   "display_name": "Python 3",
   "language": "python",
   "name": "python3"
  },
  "language_info": {
   "codemirror_mode": {
    "name": "ipython",
    "version": 3
   },
   "file_extension": ".py",
   "mimetype": "text/x-python",
   "name": "python",
   "nbconvert_exporter": "python",
   "pygments_lexer": "ipython3",
   "version": "3.6.5"
  },
  "name": "",
  "signature": "sha256:734e41e8f0492c34568a5c9503451f10b23ca6833d458da1e7877f8780f04ff0"
 },
 "nbformat": 3,
 "nbformat_minor": 0,
 "worksheets": [
  {
   "cells": [
    {
     "cell_type": "heading",
     "level": 1,
     "metadata": {},
     "source": [
      "FEniCS tools for lab 4"
     ]
    },
    {
     "cell_type": "heading",
     "level": 2,
     "metadata": {},
     "source": [
      "Mixed Function Spaces"
     ]
    },
    {
     "cell_type": "markdown",
     "metadata": {},
     "source": [
      "### 1. Define *Elements* of the mixed space:\n",
      "   - a ```VectorElement``` for the velocity vector\n",
      "   - a scalar ```FiniteElement``` for the pressure\n",
      "   - arguments:\n",
      "       1. element type, ```'P'``` for standard polynomial basis,\n",
      "       2. mesh cell shape: ```mesh.ufl_cell()``` returns ```triangle```, ```tetrahedron```, etc\n",
      "       3. degree of shape functions\n",
      "    \n",
      "### 2. Create a mixed function space from elements\n",
      "\n",
      "Here we use Taylor-Hood P2/P1 elements for the Stokes problem."
     ]
    },
    {
     "cell_type": "code",
     "collapsed": false,
     "input": [
      "mesh = UnitSquareMesh(16, 16)\n",
      "\n",
      "VE = VectorElement('P', mesh.ufl_cell(), 2)\n",
      "PE = FiniteElement('P', mesh.ufl_cell(), 1)\n",
      "\n",
      "W = FunctionSpace(mesh, VE * PE)\n",
      "\n",
      "# equivalent to:\n",
      "W = FunctionSpace(mesh, MixedElement([VE, PE]))\n",
      "\n",
      "# Note: you can use VectorFunctionSpace(mesh, 'P', 1) for multidimensional but not mixed problems"
     ],
     "language": "python",
     "metadata": {},
     "outputs": [
      {
       "ename": "NameError",
       "evalue": "name 'UnitSquareMesh' is not defined",
       "output_type": "pyerr",
       "traceback": [
        "\u001b[0;31m---------------------------------------------------------------------------\u001b[0m\n\u001b[0;31mNameError\u001b[0m                                 Traceback (most recent call last)",
        "\u001b[0;32m<ipython-input-2-f3d3d5d3edb9>\u001b[0m in \u001b[0;36m<module>\u001b[0;34m()\u001b[0m\n\u001b[0;32m----> 1\u001b[0;31m \u001b[0mmesh\u001b[0m \u001b[0;34m=\u001b[0m \u001b[0mUnitSquareMesh\u001b[0m\u001b[0;34m(\u001b[0m\u001b[0;36m16\u001b[0m\u001b[0;34m,\u001b[0m \u001b[0;36m16\u001b[0m\u001b[0;34m)\u001b[0m\u001b[0;34m\u001b[0m\u001b[0m\n\u001b[0m\u001b[1;32m      2\u001b[0m \u001b[0;34m\u001b[0m\u001b[0m\n\u001b[1;32m      3\u001b[0m \u001b[0mVE\u001b[0m \u001b[0;34m=\u001b[0m \u001b[0mVectorElement\u001b[0m\u001b[0;34m(\u001b[0m\u001b[0;34m'P'\u001b[0m\u001b[0;34m,\u001b[0m \u001b[0mmesh\u001b[0m\u001b[0;34m.\u001b[0m\u001b[0mufl_cell\u001b[0m\u001b[0;34m(\u001b[0m\u001b[0;34m)\u001b[0m\u001b[0;34m,\u001b[0m \u001b[0;36m2\u001b[0m\u001b[0;34m)\u001b[0m\u001b[0;34m\u001b[0m\u001b[0m\n\u001b[1;32m      4\u001b[0m \u001b[0mPE\u001b[0m \u001b[0;34m=\u001b[0m \u001b[0mFiniteElement\u001b[0m\u001b[0;34m(\u001b[0m\u001b[0;34m'P'\u001b[0m\u001b[0;34m,\u001b[0m \u001b[0mmesh\u001b[0m\u001b[0;34m.\u001b[0m\u001b[0mufl_cell\u001b[0m\u001b[0;34m(\u001b[0m\u001b[0;34m)\u001b[0m\u001b[0;34m,\u001b[0m \u001b[0;36m1\u001b[0m\u001b[0;34m)\u001b[0m\u001b[0;34m\u001b[0m\u001b[0m\n\u001b[1;32m      5\u001b[0m \u001b[0;34m\u001b[0m\u001b[0m\n",
        "\u001b[0;31mNameError\u001b[0m: name 'UnitSquareMesh' is not defined"
       ]
      }
     ],
     "prompt_number": 2
    },
    {
     "cell_type": "markdown",
     "metadata": {},
     "source": [
      "Now ```W``` is a mixed function space, consisting of two subspaces: first, the vector function space of the velocity, and second, the scalar pressure space. The subspaces can be accessed by ```W.sub(0)``` and ```W.sub(1)```. ```W.sub(0).sub(i)``` selects the subspace corresponding to the $i$th velocity component:"
     ]
    },
    {
     "cell_type": "code",
     "collapsed": false,
     "input": [
      "# dimension of mixed function space\n",
      "print(W.dim())\n",
      "# dimensions of sub spaces\n",
      "print(W.sub(0).dim())\n",
      "print(W.sub(1).dim())"
     ],
     "language": "python",
     "metadata": {},
     "outputs": [
      {
       "ename": "NameError",
       "evalue": "name 'W' is not defined",
       "output_type": "pyerr",
       "traceback": [
        "\u001b[0;31m---------------------------------------------------------------------------\u001b[0m\n\u001b[0;31mNameError\u001b[0m                                 Traceback (most recent call last)",
        "\u001b[0;32m<ipython-input-1-e881ec384b08>\u001b[0m in \u001b[0;36m<module>\u001b[0;34m()\u001b[0m\n\u001b[1;32m      1\u001b[0m \u001b[0;31m# dimension of mixed function space\u001b[0m\u001b[0;34m\u001b[0m\u001b[0;34m\u001b[0m\u001b[0m\n\u001b[0;32m----> 2\u001b[0;31m \u001b[0mprint\u001b[0m\u001b[0;34m(\u001b[0m\u001b[0mW\u001b[0m\u001b[0;34m.\u001b[0m\u001b[0mdim\u001b[0m\u001b[0;34m(\u001b[0m\u001b[0;34m)\u001b[0m\u001b[0;34m)\u001b[0m\u001b[0;34m\u001b[0m\u001b[0m\n\u001b[0m\u001b[1;32m      3\u001b[0m \u001b[0;31m# dimensions of sub spaces\u001b[0m\u001b[0;34m\u001b[0m\u001b[0;34m\u001b[0m\u001b[0m\n\u001b[1;32m      4\u001b[0m \u001b[0mprint\u001b[0m\u001b[0;34m(\u001b[0m\u001b[0mW\u001b[0m\u001b[0;34m.\u001b[0m\u001b[0msub\u001b[0m\u001b[0;34m(\u001b[0m\u001b[0;36m0\u001b[0m\u001b[0;34m)\u001b[0m\u001b[0;34m.\u001b[0m\u001b[0mdim\u001b[0m\u001b[0;34m(\u001b[0m\u001b[0;34m)\u001b[0m\u001b[0;34m)\u001b[0m\u001b[0;34m\u001b[0m\u001b[0m\n\u001b[1;32m      5\u001b[0m \u001b[0mprint\u001b[0m\u001b[0;34m(\u001b[0m\u001b[0mW\u001b[0m\u001b[0;34m.\u001b[0m\u001b[0msub\u001b[0m\u001b[0;34m(\u001b[0m\u001b[0;36m1\u001b[0m\u001b[0;34m)\u001b[0m\u001b[0;34m.\u001b[0m\u001b[0mdim\u001b[0m\u001b[0;34m(\u001b[0m\u001b[0;34m)\u001b[0m\u001b[0;34m)\u001b[0m\u001b[0;34m\u001b[0m\u001b[0m\n",
        "\u001b[0;31mNameError\u001b[0m: name 'W' is not defined"
       ]
      }
     ],
     "prompt_number": 1
    },
    {
     "cell_type": "markdown",
     "metadata": {},
     "source": [
      "## Mixed Variational Formulations\n",
      "The variational formulation of a mixed problem is defined for trial and test function of the subspaces.\n",
      "Below two methods, in both cases the trial functions (the solutions searched for) are ```u``` for the velocities and ```p``` for the pressure, and ```(v, q)``` their respective test functions:"
     ]
    },
    {
     "cell_type": "code",
     "collapsed": false,
     "input": [
      "u, p = TrialFunctions(W)\n",
      "v, q = TestFunctions(W)\n",
      "# or using mixed functions, w, z, and splitting into their components:\n",
      "w = TrialFunction(W)\n",
      "z = TestFunction(W)\n",
      "u, p = split(w)\n",
      "v, q = split(z)"
     ],
     "language": "python",
     "metadata": {},
     "outputs": [],
     "prompt_number": null
    },
    {
     "cell_type": "markdown",
     "metadata": {},
     "source": [
      "Now define a variational problem in terms of these trial and test functions, for example:"
     ]
    },
    {
     "cell_type": "code",
     "collapsed": false,
     "input": [
      "a = inner(grad(u), grad(v))*dx + div(u)*q*dx + ..."
     ],
     "language": "python",
     "metadata": {},
     "outputs": [],
     "prompt_number": null
    },
    {
     "cell_type": "markdown",
     "metadata": {},
     "source": [
      "Note than $u$ and $v$ are vector functions and their gradients are tensors of second order. It is important to use ```inner``` here to compute the inner product instead of the function ```dot``` (see https://fenics.readthedocs.io/projects/ufl/en/latest/manual/form_language.html#tensor-algebra-operators for details)."
     ]
    },
    {
     "cell_type": "markdown",
     "metadata": {},
     "source": [
      "## Functions of mixed spaces\n",
      "A function ```w = Function(W)``` is a mixed function, containing both the velocity vector and the pressure.\n",
      "This is the case when solving a mixed problem via ```solve(a == L, w, bcs)```.\n",
      "The components can be extracted with:"
     ]
    },
    {
     "cell_type": "code",
     "collapsed": false,
     "input": [
      "w = Function(W)\n",
      "u, p = w.split()    # in contrast to split(w), which only works for use in UFL forms\n",
      "# for further computations with the components it may be necessary to use\n",
      "u, p = w.split(deepcopy=True)"
     ],
     "language": "python",
     "metadata": {},
     "outputs": [],
     "prompt_number": null
    },
    {
     "cell_type": "markdown",
     "metadata": {},
     "source": [
      "## Dirichlet boundary conditions on subspaces\n",
      "To apply a Dirichlet boundary condition on a subspace, for instance the velocity, do, for instance:"
     ]
    },
    {
     "cell_type": "code",
     "collapsed": false,
     "input": [
      "bc = DirichletBC(W.sub(0), Constant((1, 2)), 'on_boundary')"
     ],
     "language": "python",
     "metadata": {},
     "outputs": [],
     "prompt_number": null
    },
    {
     "cell_type": "markdown",
     "metadata": {},
     "source": [
      "## Other useful functions\n",
      "for using in variational forms\n",
      "### Element normal vectors"
     ]
    },
    {
     "cell_type": "code",
     "collapsed": false,
     "input": [
      "n = FacetNormal(mesh)"
     ],
     "language": "python",
     "metadata": {},
     "outputs": [],
     "prompt_number": null
    },
    {
     "cell_type": "heading",
     "level": 3,
     "metadata": {},
     "source": [
      "Element size"
     ]
    },
    {
     "cell_type": "code",
     "collapsed": false,
     "input": [
      "h = CellDiameter(mesh)"
     ],
     "language": "python",
     "metadata": {},
     "outputs": [],
     "prompt_number": null
    },
    {
     "cell_type": "markdown",
     "metadata": {},
     "source": [
      "### Vector Expressions\n",
      "(intuitively, like ```Constant```s)"
     ]
    },
    {
     "cell_type": "code",
     "collapsed": false,
     "input": [
      "vec_exp = Expression(('pow(x[0], 2)', 'A*fabs(x[1])'), A=3, degree=2)\n",
      "# Here, A is a user given constant. Can have any name and be any number or Constant...\n",
      "# Note: fabs() is the C function for the absolute value of a number"
     ],
     "language": "python",
     "metadata": {},
     "outputs": [],
     "prompt_number": null
    }
   ],
   "metadata": {}
  }
 ]
}